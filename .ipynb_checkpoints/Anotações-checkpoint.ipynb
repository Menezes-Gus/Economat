{
 "cells": [
  {
   "cell_type": "code",
   "execution_count": 1,
   "id": "8584488e",
   "metadata": {},
   "outputs": [],
   "source": [
    "import sympy as sp"
   ]
  },
  {
   "cell_type": "code",
   "execution_count": 6,
   "id": "f5392f76",
   "metadata": {},
   "outputs": [],
   "source": [
    "A = sp.Matrix([[1,3,3],[4,5,6],[7,8,9]])"
   ]
  },
  {
   "cell_type": "code",
   "execution_count": 7,
   "id": "8516e9f4",
   "metadata": {},
   "outputs": [
    {
     "data": {
      "text/latex": [
       "$\\displaystyle 6$"
      ],
      "text/plain": [
       "6"
      ]
     },
     "execution_count": 7,
     "metadata": {},
     "output_type": "execute_result"
    }
   ],
   "source": [
    "A.det()"
   ]
  },
  {
   "cell_type": "code",
   "execution_count": 8,
   "id": "73b55b56",
   "metadata": {},
   "outputs": [],
   "source": [
    "S = sp.Matrix([[2,2,3],[4,3,6],[7,2,9]])"
   ]
  },
  {
   "cell_type": "code",
   "execution_count": 9,
   "id": "43c07b38",
   "metadata": {},
   "outputs": [
    {
     "data": {
      "text/latex": [
       "$\\displaystyle 3$"
      ],
      "text/plain": [
       "3"
      ]
     },
     "execution_count": 9,
     "metadata": {},
     "output_type": "execute_result"
    }
   ],
   "source": [
    "S.det()"
   ]
  },
  {
   "cell_type": "code",
   "execution_count": 10,
   "id": "5b44665f",
   "metadata": {},
   "outputs": [
    {
     "data": {
      "text/latex": [
       "$\\displaystyle \\left[\\begin{matrix}5 & -4 & 1\\\\2 & -1 & 0\\\\- \\frac{13}{3} & \\frac{10}{3} & - \\frac{2}{3}\\end{matrix}\\right]$"
      ],
      "text/plain": [
       "Matrix([\n",
       "[    5,   -4,    1],\n",
       "[    2,   -1,    0],\n",
       "[-13/3, 10/3, -2/3]])"
      ]
     },
     "execution_count": 10,
     "metadata": {},
     "output_type": "execute_result"
    }
   ],
   "source": [
    "S.inv()"
   ]
  },
  {
   "cell_type": "code",
   "execution_count": 11,
   "id": "8e317329",
   "metadata": {},
   "outputs": [
    {
     "data": {
      "text/latex": [
       "$\\displaystyle \\left[\\begin{matrix}1 & 0 & 0\\\\0 & 1 & 0\\\\0 & 0 & 1\\end{matrix}\\right]$"
      ],
      "text/plain": [
       "Matrix([\n",
       "[1, 0, 0],\n",
       "[0, 1, 0],\n",
       "[0, 0, 1]])"
      ]
     },
     "execution_count": 11,
     "metadata": {},
     "output_type": "execute_result"
    }
   ],
   "source": [
    "S*S.inv()"
   ]
  },
  {
   "cell_type": "code",
   "execution_count": 12,
   "id": "2ff2d1fb",
   "metadata": {},
   "outputs": [
    {
     "data": {
      "text/latex": [
       "$\\displaystyle \\left[\\begin{matrix}1 & 3 & 3\\\\4 & 5 & 6\\\\7 & 8 & 9\\end{matrix}\\right]$"
      ],
      "text/plain": [
       "Matrix([\n",
       "[1, 3, 3],\n",
       "[4, 5, 6],\n",
       "[7, 8, 9]])"
      ]
     },
     "execution_count": 12,
     "metadata": {},
     "output_type": "execute_result"
    }
   ],
   "source": [
    "A*S*S.inv()"
   ]
  },
  {
   "cell_type": "code",
   "execution_count": 13,
   "id": "aa99a2b0",
   "metadata": {},
   "outputs": [
    {
     "data": {
      "text/latex": [
       "$\\displaystyle \\left[\\begin{matrix}1 & 3 & 3\\\\4 & 5 & 6\\\\7 & 8 & 9\\end{matrix}\\right]$"
      ],
      "text/plain": [
       "Matrix([\n",
       "[1, 3, 3],\n",
       "[4, 5, 6],\n",
       "[7, 8, 9]])"
      ]
     },
     "execution_count": 13,
     "metadata": {},
     "output_type": "execute_result"
    }
   ],
   "source": [
    "A"
   ]
  },
  {
   "cell_type": "code",
   "execution_count": 14,
   "id": "781eec4b",
   "metadata": {},
   "outputs": [
    {
     "data": {
      "text/latex": [
       "$\\displaystyle 6$"
      ],
      "text/plain": [
       "6"
      ]
     },
     "execution_count": 14,
     "metadata": {},
     "output_type": "execute_result"
    }
   ],
   "source": [
    "(A*S*S.inv()).det()"
   ]
  },
  {
   "cell_type": "code",
   "execution_count": 15,
   "id": "eb19dcf8",
   "metadata": {},
   "outputs": [
    {
     "data": {
      "text/latex": [
       "$\\displaystyle 6$"
      ],
      "text/plain": [
       "6"
      ]
     },
     "execution_count": 15,
     "metadata": {},
     "output_type": "execute_result"
    }
   ],
   "source": [
    "A.det()"
   ]
  },
  {
   "cell_type": "code",
   "execution_count": 18,
   "id": "5b5e0036",
   "metadata": {},
   "outputs": [],
   "source": [
    "T = sp.Matrix([[2,2,3,4],[4,3,6,2],[7,2,9,1], [1,1,1,5]])"
   ]
  },
  {
   "cell_type": "code",
   "execution_count": 19,
   "id": "88c0ff53",
   "metadata": {},
   "outputs": [
    {
     "data": {
      "text/latex": [
       "$\\displaystyle \\left[\\begin{matrix}-8 & \\frac{33}{8} & - \\frac{5}{8} & \\frac{39}{8}\\\\-4 & \\frac{11}{4} & - \\frac{3}{4} & \\frac{9}{4}\\\\7 & - \\frac{15}{4} & \\frac{3}{4} & - \\frac{17}{4}\\\\1 & - \\frac{5}{8} & \\frac{1}{8} & - \\frac{3}{8}\\end{matrix}\\right]$"
      ],
      "text/plain": [
       "Matrix([\n",
       "[-8,  33/8, -5/8,  39/8],\n",
       "[-4,  11/4, -3/4,   9/4],\n",
       "[ 7, -15/4,  3/4, -17/4],\n",
       "[ 1,  -5/8,  1/8,  -3/8]])"
      ]
     },
     "execution_count": 19,
     "metadata": {},
     "output_type": "execute_result"
    }
   ],
   "source": [
    "T.inv()"
   ]
  },
  {
   "cell_type": "code",
   "execution_count": 20,
   "id": "31ef1f0f",
   "metadata": {},
   "outputs": [
    {
     "data": {
      "text/latex": [
       "$\\displaystyle \\left[\\begin{matrix}1 & 0 & 0 & 0\\\\0 & 1 & 0 & 0\\\\0 & 0 & 1 & 0\\\\0 & 0 & 0 & 1\\end{matrix}\\right]$"
      ],
      "text/plain": [
       "Matrix([\n",
       "[1, 0, 0, 0],\n",
       "[0, 1, 0, 0],\n",
       "[0, 0, 1, 0],\n",
       "[0, 0, 0, 1]])"
      ]
     },
     "execution_count": 20,
     "metadata": {},
     "output_type": "execute_result"
    }
   ],
   "source": [
    "T*T.inv()"
   ]
  },
  {
   "cell_type": "code",
   "execution_count": 24,
   "id": "fd2a641c",
   "metadata": {},
   "outputs": [
    {
     "data": {
      "text/latex": [
       "$\\displaystyle \\left[\\begin{matrix}1 & 4 & 7\\\\3 & 5 & 8\\\\3 & 6 & 9\\end{matrix}\\right]$"
      ],
      "text/plain": [
       "Matrix([\n",
       "[1, 4, 7],\n",
       "[3, 5, 8],\n",
       "[3, 6, 9]])"
      ]
     },
     "execution_count": 24,
     "metadata": {},
     "output_type": "execute_result"
    }
   ],
   "source": [
    "A.transpose()"
   ]
  },
  {
   "cell_type": "code",
   "execution_count": 25,
   "id": "2c1a4c62",
   "metadata": {},
   "outputs": [
    {
     "data": {
      "text/latex": [
       "$\\displaystyle \\left[\\begin{matrix}1 & 3 & 3\\\\4 & 5 & 6\\\\7 & 8 & 9\\end{matrix}\\right]$"
      ],
      "text/plain": [
       "Matrix([\n",
       "[1, 3, 3],\n",
       "[4, 5, 6],\n",
       "[7, 8, 9]])"
      ]
     },
     "execution_count": 25,
     "metadata": {},
     "output_type": "execute_result"
    }
   ],
   "source": [
    "A"
   ]
  },
  {
   "cell_type": "code",
   "execution_count": 26,
   "id": "d5e5db47",
   "metadata": {},
   "outputs": [
    {
     "data": {
      "text/latex": [
       "$\\displaystyle \\left[\\begin{matrix}19 & 37 & 58\\\\37 & 77 & 122\\\\58 & 122 & 194\\end{matrix}\\right]$"
      ],
      "text/plain": [
       "Matrix([\n",
       "[19,  37,  58],\n",
       "[37,  77, 122],\n",
       "[58, 122, 194]])"
      ]
     },
     "execution_count": 26,
     "metadata": {},
     "output_type": "execute_result"
    }
   ],
   "source": [
    "A*A.transpose()"
   ]
  },
  {
   "cell_type": "markdown",
   "id": "60b5d4be",
   "metadata": {},
   "source": [
    "rank(A) <= nlin(A) <br>\n",
    "rank(A) <= ncol(A)<br>\n",
    "rank(A) <= min{nlin(A), ncol(A)}<br>\n",
    "rank(A) <= rank(A|b)<br>\n",
    "<br>\n",
    "se rank(A) = rank(A|b) então existe 1 ou infinitas soluções<br>\n",
    "se rank(A) = rank(A|b) e ncol(A) = nlin(A) então existe 1 única solução<br>\n",
    "<br>\n",
    "se ncol(A) > nlin(A) então existem 0 ou infinitas soluções<br>\n",
    "<br>\n",
    "se b1=b2=...=bm=0 então o sistema é homogêneo<br>\n",
    "se o sistema é homogêneo então possui 1 ou infinitas soluções (x1=x2=...=xn=0)<br>\n",
    "se o sistema é homogêneo e ncol(A) > nlin(A) então possui infinitas soluções<br>\n",
    "<br>\n",
    "se rank(A) = nlin(A) então existe solução para qualquer valor de b<br>\n",
    "se ncol(A) < nlin(A) então não existem soluções para qualquer valor de b (podendo existir para alguns, mas não para todos)<br>\n",
    "se rank(A) = ncol(A) então existe no máximo 1 solução para todo b<br>\n",
    "se rank(A) = nlin(A) = ncol(A) então existe exatametne 1 solução para todo b<br>\n",
    "também, se rank(A) = nlin(A) = ncol(A) dizemos que A é não-singular<br>\n",
    "\n"
   ]
  },
  {
   "cell_type": "markdown",
   "id": "405984cd",
   "metadata": {},
   "source": [
    "<br>\n",
    "<br>\n",
    "<br>\n",
    "<br>\n",
    "<br>\n",
    "<br>\n",
    "<br>\n",
    "<br>\n",
    "<br>\n",
    "<br>\n",
    "(a) Se nlin < ncol:<br>\n",
    "- Ax = 0 tem infinitas soluções<br>\n",
    "- Ax = b tem 0 ou infinitas soluções<br>\n",
    "- Se rank(A) = nlin(A) b tem infinitas soluções<br>\n",
    "(b) Se nlin > ncol:<br>\n",
    "- Ax = 0 tem 1 ou infinitas soluções<br>\n",
    "- Ax = b tem 0 ou 1 ou infinitas soluções<br>\n",
    "- Se rank(A) = ncol, b não tem solução ou tem exatamente 1 solução<br>\n",
    "(c) Se o nlin=ncol:<br>\n",
    "- Ax = 0 tem 1 ou infinitas soluções<br>\n",
    "- Ax = b tem 0 ou 1 ou infinitas soluções<br>\n",
    "- Se rank(A) = nlin = ncol, b tem exatamente 1 solução<br>\n"
   ]
  },
  {
   "cell_type": "code",
   "execution_count": null,
   "id": "46b6e49f",
   "metadata": {},
   "outputs": [],
   "source": []
  }
 ],
 "metadata": {
  "kernelspec": {
   "display_name": "Python 3 (ipykernel)",
   "language": "python",
   "name": "python3"
  },
  "language_info": {
   "codemirror_mode": {
    "name": "ipython",
    "version": 3
   },
   "file_extension": ".py",
   "mimetype": "text/x-python",
   "name": "python",
   "nbconvert_exporter": "python",
   "pygments_lexer": "ipython3",
   "version": "3.9.7"
  }
 },
 "nbformat": 4,
 "nbformat_minor": 5
}

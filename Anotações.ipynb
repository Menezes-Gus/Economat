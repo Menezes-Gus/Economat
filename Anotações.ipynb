{
 "cells": [
  {
   "cell_type": "code",
   "execution_count": 1,
   "id": "8584488e",
   "metadata": {},
   "outputs": [],
   "source": [
    "import sympy as sp"
   ]
  },
  {
   "cell_type": "code",
   "execution_count": 2,
   "id": "f5392f76",
   "metadata": {},
   "outputs": [],
   "source": [
    "A = sp.Matrix([[1,3,3],[4,5,6],[7,8,9]])"
   ]
  },
  {
   "cell_type": "code",
   "execution_count": 3,
   "id": "8516e9f4",
   "metadata": {},
   "outputs": [
    {
     "data": {
      "text/latex": [
       "$\\displaystyle 6$"
      ],
      "text/plain": [
       "6"
      ]
     },
     "execution_count": 3,
     "metadata": {},
     "output_type": "execute_result"
    }
   ],
   "source": [
    "A.det()"
   ]
  },
  {
   "cell_type": "code",
   "execution_count": 4,
   "id": "73b55b56",
   "metadata": {},
   "outputs": [],
   "source": [
    "S = sp.Matrix([[2,2,3],[4,3,6],[7,2,9]])"
   ]
  },
  {
   "cell_type": "code",
   "execution_count": 5,
   "id": "43c07b38",
   "metadata": {},
   "outputs": [
    {
     "data": {
      "text/latex": [
       "$\\displaystyle 3$"
      ],
      "text/plain": [
       "3"
      ]
     },
     "execution_count": 5,
     "metadata": {},
     "output_type": "execute_result"
    }
   ],
   "source": [
    "S.det()"
   ]
  },
  {
   "cell_type": "code",
   "execution_count": 6,
   "id": "5b44665f",
   "metadata": {},
   "outputs": [
    {
     "data": {
      "text/latex": [
       "$\\displaystyle \\left[\\begin{matrix}5 & -4 & 1\\\\2 & -1 & 0\\\\- \\frac{13}{3} & \\frac{10}{3} & - \\frac{2}{3}\\end{matrix}\\right]$"
      ],
      "text/plain": [
       "Matrix([\n",
       "[    5,   -4,    1],\n",
       "[    2,   -1,    0],\n",
       "[-13/3, 10/3, -2/3]])"
      ]
     },
     "execution_count": 6,
     "metadata": {},
     "output_type": "execute_result"
    }
   ],
   "source": [
    "S.inv()"
   ]
  },
  {
   "cell_type": "code",
   "execution_count": 7,
   "id": "8e317329",
   "metadata": {},
   "outputs": [
    {
     "data": {
      "text/latex": [
       "$\\displaystyle \\left[\\begin{matrix}1 & 0 & 0\\\\0 & 1 & 0\\\\0 & 0 & 1\\end{matrix}\\right]$"
      ],
      "text/plain": [
       "Matrix([\n",
       "[1, 0, 0],\n",
       "[0, 1, 0],\n",
       "[0, 0, 1]])"
      ]
     },
     "execution_count": 7,
     "metadata": {},
     "output_type": "execute_result"
    }
   ],
   "source": [
    "S*S.inv()"
   ]
  },
  {
   "cell_type": "code",
   "execution_count": 8,
   "id": "2ff2d1fb",
   "metadata": {},
   "outputs": [
    {
     "data": {
      "text/latex": [
       "$\\displaystyle \\left[\\begin{matrix}1 & 3 & 3\\\\4 & 5 & 6\\\\7 & 8 & 9\\end{matrix}\\right]$"
      ],
      "text/plain": [
       "Matrix([\n",
       "[1, 3, 3],\n",
       "[4, 5, 6],\n",
       "[7, 8, 9]])"
      ]
     },
     "execution_count": 8,
     "metadata": {},
     "output_type": "execute_result"
    }
   ],
   "source": [
    "A*S*S.inv()"
   ]
  },
  {
   "cell_type": "code",
   "execution_count": 9,
   "id": "aa99a2b0",
   "metadata": {},
   "outputs": [
    {
     "data": {
      "text/latex": [
       "$\\displaystyle \\left[\\begin{matrix}1 & 3 & 3\\\\4 & 5 & 6\\\\7 & 8 & 9\\end{matrix}\\right]$"
      ],
      "text/plain": [
       "Matrix([\n",
       "[1, 3, 3],\n",
       "[4, 5, 6],\n",
       "[7, 8, 9]])"
      ]
     },
     "execution_count": 9,
     "metadata": {},
     "output_type": "execute_result"
    }
   ],
   "source": [
    "A"
   ]
  },
  {
   "cell_type": "code",
   "execution_count": 10,
   "id": "781eec4b",
   "metadata": {},
   "outputs": [
    {
     "data": {
      "text/latex": [
       "$\\displaystyle 6$"
      ],
      "text/plain": [
       "6"
      ]
     },
     "execution_count": 10,
     "metadata": {},
     "output_type": "execute_result"
    }
   ],
   "source": [
    "(A*S*S.inv()).det()"
   ]
  },
  {
   "cell_type": "code",
   "execution_count": 11,
   "id": "eb19dcf8",
   "metadata": {},
   "outputs": [
    {
     "data": {
      "text/latex": [
       "$\\displaystyle 6$"
      ],
      "text/plain": [
       "6"
      ]
     },
     "execution_count": 11,
     "metadata": {},
     "output_type": "execute_result"
    }
   ],
   "source": [
    "A.det()"
   ]
  },
  {
   "cell_type": "code",
   "execution_count": 12,
   "id": "5b5e0036",
   "metadata": {},
   "outputs": [],
   "source": [
    "T = sp.Matrix([[2,2,3,4],[4,3,6,2],[7,2,9,1], [1,1,1,5]])"
   ]
  },
  {
   "cell_type": "code",
   "execution_count": 13,
   "id": "88c0ff53",
   "metadata": {},
   "outputs": [
    {
     "data": {
      "text/latex": [
       "$\\displaystyle \\left[\\begin{matrix}-8 & \\frac{33}{8} & - \\frac{5}{8} & \\frac{39}{8}\\\\-4 & \\frac{11}{4} & - \\frac{3}{4} & \\frac{9}{4}\\\\7 & - \\frac{15}{4} & \\frac{3}{4} & - \\frac{17}{4}\\\\1 & - \\frac{5}{8} & \\frac{1}{8} & - \\frac{3}{8}\\end{matrix}\\right]$"
      ],
      "text/plain": [
       "Matrix([\n",
       "[-8,  33/8, -5/8,  39/8],\n",
       "[-4,  11/4, -3/4,   9/4],\n",
       "[ 7, -15/4,  3/4, -17/4],\n",
       "[ 1,  -5/8,  1/8,  -3/8]])"
      ]
     },
     "execution_count": 13,
     "metadata": {},
     "output_type": "execute_result"
    }
   ],
   "source": [
    "T.inv()"
   ]
  },
  {
   "cell_type": "code",
   "execution_count": 14,
   "id": "31ef1f0f",
   "metadata": {},
   "outputs": [
    {
     "data": {
      "text/latex": [
       "$\\displaystyle \\left[\\begin{matrix}1 & 0 & 0 & 0\\\\0 & 1 & 0 & 0\\\\0 & 0 & 1 & 0\\\\0 & 0 & 0 & 1\\end{matrix}\\right]$"
      ],
      "text/plain": [
       "Matrix([\n",
       "[1, 0, 0, 0],\n",
       "[0, 1, 0, 0],\n",
       "[0, 0, 1, 0],\n",
       "[0, 0, 0, 1]])"
      ]
     },
     "execution_count": 14,
     "metadata": {},
     "output_type": "execute_result"
    }
   ],
   "source": [
    "T*T.inv()"
   ]
  },
  {
   "cell_type": "code",
   "execution_count": 15,
   "id": "fd2a641c",
   "metadata": {},
   "outputs": [
    {
     "data": {
      "text/latex": [
       "$\\displaystyle \\left[\\begin{matrix}1 & 4 & 7\\\\3 & 5 & 8\\\\3 & 6 & 9\\end{matrix}\\right]$"
      ],
      "text/plain": [
       "Matrix([\n",
       "[1, 4, 7],\n",
       "[3, 5, 8],\n",
       "[3, 6, 9]])"
      ]
     },
     "execution_count": 15,
     "metadata": {},
     "output_type": "execute_result"
    }
   ],
   "source": [
    "A.transpose()"
   ]
  },
  {
   "cell_type": "code",
   "execution_count": 16,
   "id": "2c1a4c62",
   "metadata": {},
   "outputs": [
    {
     "data": {
      "text/latex": [
       "$\\displaystyle \\left[\\begin{matrix}1 & 3 & 3\\\\4 & 5 & 6\\\\7 & 8 & 9\\end{matrix}\\right]$"
      ],
      "text/plain": [
       "Matrix([\n",
       "[1, 3, 3],\n",
       "[4, 5, 6],\n",
       "[7, 8, 9]])"
      ]
     },
     "execution_count": 16,
     "metadata": {},
     "output_type": "execute_result"
    }
   ],
   "source": [
    "A"
   ]
  },
  {
   "cell_type": "code",
   "execution_count": 17,
   "id": "d5e5db47",
   "metadata": {},
   "outputs": [
    {
     "data": {
      "text/latex": [
       "$\\displaystyle \\left[\\begin{matrix}19 & 37 & 58\\\\37 & 77 & 122\\\\58 & 122 & 194\\end{matrix}\\right]$"
      ],
      "text/plain": [
       "Matrix([\n",
       "[19,  37,  58],\n",
       "[37,  77, 122],\n",
       "[58, 122, 194]])"
      ]
     },
     "execution_count": 17,
     "metadata": {},
     "output_type": "execute_result"
    }
   ],
   "source": [
    "A*A.transpose()"
   ]
  },
  {
   "cell_type": "markdown",
   "id": "60b5d4be",
   "metadata": {},
   "source": [
    "rank(A) <= nlin(A) <br>\n",
    "rank(A) <= ncol(A)<br>\n",
    "rank(A) <= min{nlin(A), ncol(A)}<br>\n",
    "rank(A) <= rank(A|b)<br>\n",
    "<br>\n",
    "se rank(A) = rank(A|b) então existe 1 ou infinitas soluções<br>\n",
    "se rank(A) = rank(A|b) e ncol(A) = nlin(A) então existe 1 única solução<br>\n",
    "<br>\n",
    "se ncol(A) > nlin(A) então existem 0 ou infinitas soluções<br>\n",
    "<br>\n",
    "se b1=b2=...=bm=0 então o sistema é homogêneo<br>\n",
    "se o sistema é homogêneo então possui 1 ou infinitas soluções (x1=x2=...=xn=0)<br>\n",
    "se o sistema é homogêneo e ncol(A) > nlin(A) então possui infinitas soluções<br>\n",
    "<br>\n",
    "se rank(A) = nlin(A) então existe solução para qualquer valor de b<br>\n",
    "se ncol(A) < nlin(A) então não existem soluções para qualquer valor de b (podendo existir para alguns, mas não para todos)<br>\n",
    "se rank(A) = ncol(A) então existe no máximo 1 solução para todo b<br>\n",
    "se rank(A) = nlin(A) = ncol(A) então existe exatametne 1 solução para todo b<br>\n",
    "também, se rank(A) = nlin(A) = ncol(A) dizemos que A é não-singular<br>\n",
    "\n"
   ]
  },
  {
   "cell_type": "markdown",
   "id": "405984cd",
   "metadata": {},
   "source": [
    "<br>\n",
    "<br>\n",
    "<br>\n",
    "<br>\n",
    "<br>\n",
    "<br>\n",
    "<br>\n",
    "<br>\n",
    "<br>\n",
    "<br>\n",
    "(a) Se nlin < ncol:<br>\n",
    "- Ax = 0 tem infinitas soluções<br>\n",
    "- Ax = b tem 0 ou infinitas soluções<br>\n",
    "- Se rank(A) = nlin(A) b tem infinitas soluções<br>\n",
    "(b) Se nlin > ncol:<br>\n",
    "- Ax = 0 tem 1 ou infinitas soluções<br>\n",
    "- Ax = b tem 0 ou 1 ou infinitas soluções<br>\n",
    "- Se rank(A) = ncol, b não tem solução ou tem exatamente 1 solução<br>\n",
    "(c) Se o nlin=ncol:<br>\n",
    "- Ax = 0 tem 1 ou infinitas soluções<br>\n",
    "- Ax = b tem 0 ou 1 ou infinitas soluções<br>\n",
    "- Se rank(A) = nlin = ncol, b tem exatamente 1 solução<br>\n"
   ]
  },
  {
   "cell_type": "code",
   "execution_count": 18,
   "id": "46b6e49f",
   "metadata": {},
   "outputs": [],
   "source": [
    "T = sp.Matrix([[2,2,2,2],[2,3,2,3],[4,4,3,4],[5,6,7,8]])"
   ]
  },
  {
   "cell_type": "code",
   "execution_count": 19,
   "id": "fbd1934b",
   "metadata": {},
   "outputs": [
    {
     "data": {
      "text/latex": [
       "$\\displaystyle \\left[\\begin{matrix}2 & 2 & 2 & 2\\\\2 & 3 & 2 & 3\\\\4 & 4 & 3 & 4\\\\5 & 6 & 7 & 8\\end{matrix}\\right]$"
      ],
      "text/plain": [
       "Matrix([\n",
       "[2, 2, 2, 2],\n",
       "[2, 3, 2, 3],\n",
       "[4, 4, 3, 4],\n",
       "[5, 6, 7, 8]])"
      ]
     },
     "execution_count": 19,
     "metadata": {},
     "output_type": "execute_result"
    }
   ],
   "source": [
    "T"
   ]
  },
  {
   "cell_type": "code",
   "execution_count": 20,
   "id": "8f10a098",
   "metadata": {},
   "outputs": [
    {
     "data": {
      "text/latex": [
       "$\\displaystyle \\left[\\begin{matrix}- \\frac{1}{2} & -1 & 1 & 0\\\\\\frac{7}{4} & \\frac{3}{2} & -1 & - \\frac{1}{2}\\\\2 & 0 & -1 & 0\\\\- \\frac{11}{4} & - \\frac{1}{2} & 1 & \\frac{1}{2}\\end{matrix}\\right]$"
      ],
      "text/plain": [
       "Matrix([\n",
       "[ -1/2,   -1,  1,    0],\n",
       "[  7/4,  3/2, -1, -1/2],\n",
       "[    2,    0, -1,    0],\n",
       "[-11/4, -1/2,  1,  1/2]])"
      ]
     },
     "execution_count": 20,
     "metadata": {},
     "output_type": "execute_result"
    }
   ],
   "source": [
    "T.inv()"
   ]
  },
  {
   "cell_type": "code",
   "execution_count": 21,
   "id": "93ccd05c",
   "metadata": {},
   "outputs": [
    {
     "data": {
      "text/latex": [
       "$\\displaystyle \\left[\\begin{matrix}2 & 2 & 4 & 5\\\\2 & 3 & 4 & 6\\\\2 & 2 & 3 & 7\\\\2 & 3 & 4 & 8\\end{matrix}\\right]$"
      ],
      "text/plain": [
       "Matrix([\n",
       "[2, 2, 4, 5],\n",
       "[2, 3, 4, 6],\n",
       "[2, 2, 3, 7],\n",
       "[2, 3, 4, 8]])"
      ]
     },
     "execution_count": 21,
     "metadata": {},
     "output_type": "execute_result"
    }
   ],
   "source": [
    "T.transpose()"
   ]
  },
  {
   "cell_type": "code",
   "execution_count": 22,
   "id": "964e1f4b",
   "metadata": {},
   "outputs": [
    {
     "data": {
      "text/latex": [
       "$\\displaystyle \\left[\\begin{matrix}16 & 20 & 30 & 52\\\\20 & 26 & 38 & 66\\\\30 & 38 & 57 & 97\\\\52 & 66 & 97 & 174\\end{matrix}\\right]$"
      ],
      "text/plain": [
       "Matrix([\n",
       "[16, 20, 30,  52],\n",
       "[20, 26, 38,  66],\n",
       "[30, 38, 57,  97],\n",
       "[52, 66, 97, 174]])"
      ]
     },
     "execution_count": 22,
     "metadata": {},
     "output_type": "execute_result"
    }
   ],
   "source": [
    "T*T.transpose()"
   ]
  },
  {
   "cell_type": "code",
   "execution_count": 23,
   "id": "13f82d25",
   "metadata": {},
   "outputs": [
    {
     "data": {
      "text/latex": [
       "$\\displaystyle \\left[\\begin{matrix}49 & 56 & 55 & 66\\\\56 & 65 & 64 & 77\\\\55 & 64 & 66 & 78\\\\66 & 77 & 78 & 93\\end{matrix}\\right]$"
      ],
      "text/plain": [
       "Matrix([\n",
       "[49, 56, 55, 66],\n",
       "[56, 65, 64, 77],\n",
       "[55, 64, 66, 78],\n",
       "[66, 77, 78, 93]])"
      ]
     },
     "execution_count": 23,
     "metadata": {},
     "output_type": "execute_result"
    }
   ],
   "source": [
    "T.transpose()*T"
   ]
  },
  {
   "cell_type": "code",
   "execution_count": 24,
   "id": "214cd523",
   "metadata": {},
   "outputs": [
    {
     "data": {
      "text/latex": [
       "$\\displaystyle \\left[\\begin{matrix}\\frac{9}{4} & - \\frac{27}{8} & -2 & \\frac{23}{8}\\\\- \\frac{27}{8} & \\frac{105}{16} & \\frac{9}{2} & - \\frac{109}{16}\\\\-2 & \\frac{9}{2} & 5 & - \\frac{13}{2}\\\\\\frac{23}{8} & - \\frac{109}{16} & - \\frac{13}{2} & \\frac{145}{16}\\end{matrix}\\right]$"
      ],
      "text/plain": [
       "Matrix([\n",
       "[  9/4,   -27/8,    -2,    23/8],\n",
       "[-27/8,  105/16,   9/2, -109/16],\n",
       "[   -2,     9/2,     5,   -13/2],\n",
       "[ 23/8, -109/16, -13/2,  145/16]])"
      ]
     },
     "execution_count": 24,
     "metadata": {},
     "output_type": "execute_result"
    }
   ],
   "source": [
    "(T.transpose()*T).inv()"
   ]
  },
  {
   "cell_type": "code",
   "execution_count": 25,
   "id": "a2bca137",
   "metadata": {},
   "outputs": [
    {
     "data": {
      "text/latex": [
       "$\\displaystyle \\left[\\begin{matrix}- \\frac{1}{2} & -1 & 1 & 0\\\\\\frac{7}{4} & \\frac{3}{2} & -1 & - \\frac{1}{2}\\\\2 & 0 & -1 & 0\\\\- \\frac{11}{4} & - \\frac{1}{2} & 1 & \\frac{1}{2}\\end{matrix}\\right]$"
      ],
      "text/plain": [
       "Matrix([\n",
       "[ -1/2,   -1,  1,    0],\n",
       "[  7/4,  3/2, -1, -1/2],\n",
       "[    2,    0, -1,    0],\n",
       "[-11/4, -1/2,  1,  1/2]])"
      ]
     },
     "execution_count": 25,
     "metadata": {},
     "output_type": "execute_result"
    }
   ],
   "source": [
    "(T.transpose()*T).inv()*T.transpose()"
   ]
  },
  {
   "cell_type": "code",
   "execution_count": 26,
   "id": "d5d27ba7",
   "metadata": {},
   "outputs": [
    {
     "data": {
      "text/latex": [
       "$\\displaystyle \\left[\\begin{matrix}1 & 0 & 0 & 0\\\\0 & 1 & 0 & 0\\\\0 & 0 & 1 & 0\\\\0 & 0 & 0 & 1\\end{matrix}\\right]$"
      ],
      "text/plain": [
       "Matrix([\n",
       "[1, 0, 0, 0],\n",
       "[0, 1, 0, 0],\n",
       "[0, 0, 1, 0],\n",
       "[0, 0, 0, 1]])"
      ]
     },
     "execution_count": 26,
     "metadata": {},
     "output_type": "execute_result"
    }
   ],
   "source": [
    "T*(T.transpose()*T).inv()*T.transpose()"
   ]
  },
  {
   "cell_type": "code",
   "execution_count": 27,
   "id": "ce624cfa",
   "metadata": {},
   "outputs": [
    {
     "data": {
      "text/latex": [
       "$\\displaystyle \\left[\\begin{matrix}1 & 0 & 0 & 0\\\\0 & 1 & 0 & 0\\\\0 & 0 & 1 & 0\\\\0 & 0 & 0 & 1\\end{matrix}\\right]$"
      ],
      "text/plain": [
       "Matrix([\n",
       "[1, 0, 0, 0],\n",
       "[0, 1, 0, 0],\n",
       "[0, 0, 1, 0],\n",
       "[0, 0, 0, 1]])"
      ]
     },
     "execution_count": 27,
     "metadata": {},
     "output_type": "execute_result"
    }
   ],
   "source": [
    "((T.transpose()*T).inv()*T.transpose())*T"
   ]
  },
  {
   "cell_type": "code",
   "execution_count": 28,
   "id": "ea988c4e",
   "metadata": {},
   "outputs": [
    {
     "data": {
      "text/latex": [
       "$\\displaystyle \\left[\\begin{matrix}16 & 20 & 30 & 52\\\\20 & 26 & 38 & 66\\\\30 & 38 & 57 & 97\\\\52 & 66 & 97 & 174\\end{matrix}\\right]$"
      ],
      "text/plain": [
       "Matrix([\n",
       "[16, 20, 30,  52],\n",
       "[20, 26, 38,  66],\n",
       "[30, 38, 57,  97],\n",
       "[52, 66, 97, 174]])"
      ]
     },
     "execution_count": 28,
     "metadata": {},
     "output_type": "execute_result"
    }
   ],
   "source": [
    "T*T.transpose()"
   ]
  },
  {
   "cell_type": "code",
   "execution_count": 29,
   "id": "588f3a46",
   "metadata": {},
   "outputs": [
    {
     "data": {
      "text/latex": [
       "$\\displaystyle \\left[\\begin{matrix}58 & -142 & -130 & 186\\\\71 & - \\frac{351}{2} & -162 & \\frac{463}{2}\\\\\\frac{833}{8} & - \\frac{4099}{16} & - \\frac{469}{2} & \\frac{5375}{16}\\\\\\frac{401}{2} & - \\frac{1965}{4} & -453 & \\frac{2585}{4}\\end{matrix}\\right]$"
      ],
      "text/plain": [
       "Matrix([\n",
       "[   58,     -142,   -130,     186],\n",
       "[   71,   -351/2,   -162,   463/2],\n",
       "[833/8, -4099/16, -469/2, 5375/16],\n",
       "[401/2,  -1965/4,   -453,  2585/4]])"
      ]
     },
     "execution_count": 29,
     "metadata": {},
     "output_type": "execute_result"
    }
   ],
   "source": [
    "(T*T.transpose())*(T.transpose()*T).inv()"
   ]
  },
  {
   "cell_type": "code",
   "execution_count": 30,
   "id": "25711a79",
   "metadata": {},
   "outputs": [
    {
     "data": {
      "text/latex": [
       "$\\displaystyle \\left[\\begin{matrix}58 & 71 & \\frac{833}{8} & \\frac{401}{2}\\\\-142 & - \\frac{351}{2} & - \\frac{4099}{16} & - \\frac{1965}{4}\\\\-130 & -162 & - \\frac{469}{2} & -453\\\\186 & \\frac{463}{2} & \\frac{5375}{16} & \\frac{2585}{4}\\end{matrix}\\right]$"
      ],
      "text/plain": [
       "Matrix([\n",
       "[  58,     71,    833/8,   401/2],\n",
       "[-142, -351/2, -4099/16, -1965/4],\n",
       "[-130,   -162,   -469/2,    -453],\n",
       "[ 186,  463/2,  5375/16,  2585/4]])"
      ]
     },
     "execution_count": 30,
     "metadata": {},
     "output_type": "execute_result"
    }
   ],
   "source": [
    "(T.transpose()*T).inv()*(T*T.transpose())"
   ]
  },
  {
   "cell_type": "code",
   "execution_count": 31,
   "id": "c30c663a",
   "metadata": {},
   "outputs": [
    {
     "data": {
      "text/latex": [
       "$\\displaystyle \\left[\\begin{matrix}1 & 0 & 0 & 0\\\\0 & 1 & 0 & 0\\\\0 & 0 & 1 & 0\\\\0 & 0 & 0 & 1\\end{matrix}\\right]$"
      ],
      "text/plain": [
       "Matrix([\n",
       "[1, 0, 0, 0],\n",
       "[0, 1, 0, 0],\n",
       "[0, 0, 1, 0],\n",
       "[0, 0, 0, 1]])"
      ]
     },
     "execution_count": 31,
     "metadata": {},
     "output_type": "execute_result"
    }
   ],
   "source": [
    "(T.transpose()*T).inv() * T.transpose()*T"
   ]
  },
  {
   "cell_type": "code",
   "execution_count": 32,
   "id": "864ff9c4",
   "metadata": {},
   "outputs": [],
   "source": [
    "B = sp.Matrix([[4,5],[2,4]])"
   ]
  },
  {
   "cell_type": "code",
   "execution_count": 33,
   "id": "12a957f0",
   "metadata": {},
   "outputs": [
    {
     "data": {
      "text/latex": [
       "$\\displaystyle \\left[\\begin{matrix}4 & 5\\\\2 & 4\\end{matrix}\\right]$"
      ],
      "text/plain": [
       "Matrix([\n",
       "[4, 5],\n",
       "[2, 4]])"
      ]
     },
     "execution_count": 33,
     "metadata": {},
     "output_type": "execute_result"
    }
   ],
   "source": [
    "B"
   ]
  },
  {
   "cell_type": "code",
   "execution_count": 34,
   "id": "513f3a06",
   "metadata": {},
   "outputs": [
    {
     "data": {
      "text/latex": [
       "$\\displaystyle \\left[\\begin{matrix}\\frac{2}{3} & - \\frac{5}{6}\\\\- \\frac{1}{3} & \\frac{2}{3}\\end{matrix}\\right]$"
      ],
      "text/plain": [
       "Matrix([\n",
       "[ 2/3, -5/6],\n",
       "[-1/3,  2/3]])"
      ]
     },
     "execution_count": 34,
     "metadata": {},
     "output_type": "execute_result"
    }
   ],
   "source": [
    "B.inv()"
   ]
  },
  {
   "cell_type": "code",
   "execution_count": 35,
   "id": "06628e0a",
   "metadata": {},
   "outputs": [],
   "source": [
    "A = sp.Matrix([[2,1],[1,1]])"
   ]
  },
  {
   "cell_type": "code",
   "execution_count": 36,
   "id": "294e5358",
   "metadata": {},
   "outputs": [
    {
     "data": {
      "text/latex": [
       "$\\displaystyle \\left[\\begin{matrix}1 & -1\\\\-1 & 2\\end{matrix}\\right]$"
      ],
      "text/plain": [
       "Matrix([\n",
       "[ 1, -1],\n",
       "[-1,  2]])"
      ]
     },
     "execution_count": 36,
     "metadata": {},
     "output_type": "execute_result"
    }
   ],
   "source": [
    "A.inv()"
   ]
  },
  {
   "cell_type": "code",
   "execution_count": 37,
   "id": "2016f5c7",
   "metadata": {},
   "outputs": [],
   "source": [
    "D = sp.Matrix([[2,4,0],[4,6,3],[-6,-10,0]])"
   ]
  },
  {
   "cell_type": "code",
   "execution_count": 38,
   "id": "6b4a35ab",
   "metadata": {},
   "outputs": [
    {
     "data": {
      "text/latex": [
       "$\\displaystyle \\left[\\begin{matrix}2 & 4 & 0\\\\4 & 6 & 3\\\\-6 & -10 & 0\\end{matrix}\\right]$"
      ],
      "text/plain": [
       "Matrix([\n",
       "[ 2,   4, 0],\n",
       "[ 4,   6, 3],\n",
       "[-6, -10, 0]])"
      ]
     },
     "execution_count": 38,
     "metadata": {},
     "output_type": "execute_result"
    }
   ],
   "source": [
    "D"
   ]
  },
  {
   "cell_type": "code",
   "execution_count": 39,
   "id": "40d62e83",
   "metadata": {},
   "outputs": [
    {
     "data": {
      "text/latex": [
       "$\\displaystyle \\left[\\begin{matrix}- \\frac{5}{2} & 0 & -1\\\\\\frac{3}{2} & 0 & \\frac{1}{2}\\\\\\frac{1}{3} & \\frac{1}{3} & \\frac{1}{3}\\end{matrix}\\right]$"
      ],
      "text/plain": [
       "Matrix([\n",
       "[-5/2,   0,  -1],\n",
       "[ 3/2,   0, 1/2],\n",
       "[ 1/3, 1/3, 1/3]])"
      ]
     },
     "execution_count": 39,
     "metadata": {},
     "output_type": "execute_result"
    }
   ],
   "source": [
    "D.inv()"
   ]
  },
  {
   "cell_type": "code",
   "execution_count": 40,
   "id": "507b8082",
   "metadata": {},
   "outputs": [],
   "source": [
    "E = sp.Matrix([[2,6,0,5],[6,21,8,17],[4,12,-4,13],[0,-3,-12,2]])"
   ]
  },
  {
   "cell_type": "code",
   "execution_count": 41,
   "id": "00cf5cbe",
   "metadata": {},
   "outputs": [
    {
     "data": {
      "text/latex": [
       "$\\displaystyle \\left[\\begin{matrix}2 & 6 & 0 & 5\\\\6 & 21 & 8 & 17\\\\4 & 12 & -4 & 13\\\\0 & -3 & -12 & 2\\end{matrix}\\right]$"
      ],
      "text/plain": [
       "Matrix([\n",
       "[2,  6,   0,  5],\n",
       "[6, 21,   8, 17],\n",
       "[4, 12,  -4, 13],\n",
       "[0, -3, -12,  2]])"
      ]
     },
     "execution_count": 41,
     "metadata": {},
     "output_type": "execute_result"
    }
   ],
   "source": [
    "E"
   ]
  },
  {
   "cell_type": "code",
   "execution_count": 42,
   "id": "2b833a24",
   "metadata": {},
   "outputs": [
    {
     "data": {
      "text/latex": [
       "$\\displaystyle \\left[\\begin{matrix}2 & \\frac{9}{2} & - \\frac{15}{2} & \\frac{11}{2}\\\\\\frac{1}{3} & - \\frac{7}{3} & \\frac{10}{3} & - \\frac{8}{3}\\\\- \\frac{1}{4} & \\frac{3}{4} & -1 & \\frac{3}{4}\\\\-1 & 1 & -1 & 1\\end{matrix}\\right]$"
      ],
      "text/plain": [
       "Matrix([\n",
       "[   2,  9/2, -15/2, 11/2],\n",
       "[ 1/3, -7/3,  10/3, -8/3],\n",
       "[-1/4,  3/4,    -1,  3/4],\n",
       "[  -1,    1,    -1,    1]])"
      ]
     },
     "execution_count": 42,
     "metadata": {},
     "output_type": "execute_result"
    }
   ],
   "source": [
    "E.inv()"
   ]
  },
  {
   "cell_type": "code",
   "execution_count": 43,
   "id": "5bb545b1",
   "metadata": {},
   "outputs": [
    {
     "data": {
      "text/latex": [
       "$\\displaystyle \\left[\\begin{matrix}-6 & \\frac{3}{2} & -1\\\\13 & -3 & 2\\\\\\frac{5}{3} & - \\frac{1}{3} & \\frac{1}{3}\\end{matrix}\\right]$"
      ],
      "text/plain": [
       "Matrix([\n",
       "[ -6,  3/2,  -1],\n",
       "[ 13,   -3,   2],\n",
       "[5/3, -1/3, 1/3]])"
      ]
     },
     "execution_count": 43,
     "metadata": {},
     "output_type": "execute_result"
    }
   ],
   "source": [
    "B = sp.Matrix([[2,1,0],[6,2,6],[-4,-3,9]])\n",
    "B.inv()"
   ]
  },
  {
   "cell_type": "code",
   "execution_count": 44,
   "id": "3848bb12",
   "metadata": {},
   "outputs": [],
   "source": [
    "B = sp.Matrix([[1,0,0],[2,3,0],[4,5,6]])"
   ]
  },
  {
   "cell_type": "code",
   "execution_count": 45,
   "id": "8e596979",
   "metadata": {},
   "outputs": [
    {
     "data": {
      "text/latex": [
       "$\\displaystyle 18$"
      ],
      "text/plain": [
       "18"
      ]
     },
     "execution_count": 45,
     "metadata": {},
     "output_type": "execute_result"
    }
   ],
   "source": [
    "B.det()"
   ]
  },
  {
   "cell_type": "code",
   "execution_count": 46,
   "id": "1d7b05e7",
   "metadata": {},
   "outputs": [],
   "source": [
    "AB = sp.Matrix([[17,21,18],[28,37,30],[24,30,36]])"
   ]
  },
  {
   "cell_type": "code",
   "execution_count": 47,
   "id": "a7a720ff",
   "metadata": {},
   "outputs": [
    {
     "data": {
      "text/latex": [
       "$\\displaystyle 432$"
      ],
      "text/plain": [
       "432"
      ]
     },
     "execution_count": 47,
     "metadata": {},
     "output_type": "execute_result"
    }
   ],
   "source": [
    "AB.det()"
   ]
  },
  {
   "cell_type": "code",
   "execution_count": 48,
   "id": "8996480f",
   "metadata": {},
   "outputs": [
    {
     "data": {
      "text/plain": [
       "432"
      ]
     },
     "execution_count": 48,
     "metadata": {},
     "output_type": "execute_result"
    }
   ],
   "source": [
    "18*24"
   ]
  },
  {
   "cell_type": "code",
   "execution_count": 49,
   "id": "65d8ad70",
   "metadata": {},
   "outputs": [
    {
     "data": {
      "text/plain": [
       "22644"
      ]
     },
     "execution_count": 49,
     "metadata": {},
     "output_type": "execute_result"
    }
   ],
   "source": [
    "17*37*36"
   ]
  },
  {
   "cell_type": "code",
   "execution_count": 50,
   "id": "0f1734d7",
   "metadata": {},
   "outputs": [
    {
     "data": {
      "text/plain": [
       "15120"
      ]
     },
     "execution_count": 50,
     "metadata": {},
     "output_type": "execute_result"
    }
   ],
   "source": [
    "21*30*24"
   ]
  },
  {
   "cell_type": "code",
   "execution_count": 51,
   "id": "21b363b0",
   "metadata": {},
   "outputs": [
    {
     "data": {
      "text/plain": [
       "15120"
      ]
     },
     "execution_count": 51,
     "metadata": {},
     "output_type": "execute_result"
    }
   ],
   "source": [
    "18*28*30"
   ]
  },
  {
   "cell_type": "code",
   "execution_count": 52,
   "id": "fc1a095b",
   "metadata": {},
   "outputs": [
    {
     "data": {
      "text/plain": [
       "21168"
      ]
     },
     "execution_count": 52,
     "metadata": {},
     "output_type": "execute_result"
    }
   ],
   "source": [
    "21*28*36"
   ]
  },
  {
   "cell_type": "code",
   "execution_count": 53,
   "id": "0b4e7e43",
   "metadata": {},
   "outputs": [
    {
     "data": {
      "text/plain": [
       "15300"
      ]
     },
     "execution_count": 53,
     "metadata": {},
     "output_type": "execute_result"
    }
   ],
   "source": [
    "17*30*30"
   ]
  },
  {
   "cell_type": "code",
   "execution_count": 54,
   "id": "743e73cb",
   "metadata": {},
   "outputs": [
    {
     "data": {
      "text/plain": [
       "15984"
      ]
     },
     "execution_count": 54,
     "metadata": {},
     "output_type": "execute_result"
    }
   ],
   "source": [
    "18*37*24"
   ]
  },
  {
   "cell_type": "code",
   "execution_count": 55,
   "id": "dfb1a374",
   "metadata": {},
   "outputs": [
    {
     "data": {
      "text/plain": [
       "52884"
      ]
     },
     "execution_count": 55,
     "metadata": {},
     "output_type": "execute_result"
    }
   ],
   "source": [
    "22644+15120+15120"
   ]
  },
  {
   "cell_type": "code",
   "execution_count": 56,
   "id": "5f56e373",
   "metadata": {},
   "outputs": [
    {
     "data": {
      "text/plain": [
       "52452"
      ]
     },
     "execution_count": 56,
     "metadata": {},
     "output_type": "execute_result"
    }
   ],
   "source": [
    "21168+15300+15984"
   ]
  },
  {
   "cell_type": "code",
   "execution_count": 57,
   "id": "a782c253",
   "metadata": {},
   "outputs": [
    {
     "data": {
      "text/plain": [
       "432"
      ]
     },
     "execution_count": 57,
     "metadata": {},
     "output_type": "execute_result"
    }
   ],
   "source": [
    "52884-52452"
   ]
  },
  {
   "cell_type": "code",
   "execution_count": 58,
   "id": "640b7739",
   "metadata": {},
   "outputs": [
    {
     "data": {
      "text/latex": [
       "$\\displaystyle \\left[\\begin{matrix}2 & 6 & 0 & 5\\\\6 & 21 & 8 & 17\\\\4 & 12 & -4 & 13\\\\0 & -3 & -12 & 2\\end{matrix}\\right]$"
      ],
      "text/plain": [
       "Matrix([\n",
       "[2,  6,   0,  5],\n",
       "[6, 21,   8, 17],\n",
       "[4, 12,  -4, 13],\n",
       "[0, -3, -12,  2]])"
      ]
     },
     "execution_count": 58,
     "metadata": {},
     "output_type": "execute_result"
    }
   ],
   "source": [
    "E"
   ]
  },
  {
   "cell_type": "code",
   "execution_count": 60,
   "id": "02af605d",
   "metadata": {},
   "outputs": [
    {
     "data": {
      "text/latex": [
       "$\\displaystyle \\left[\\begin{matrix}2 & 6 & 4 & 0\\\\6 & 21 & 12 & -3\\\\0 & 8 & -4 & -12\\\\5 & 17 & 13 & 2\\end{matrix}\\right]$"
      ],
      "text/plain": [
       "Matrix([\n",
       "[2,  6,  4,   0],\n",
       "[6, 21, 12,  -3],\n",
       "[0,  8, -4, -12],\n",
       "[5, 17, 13,   2]])"
      ]
     },
     "execution_count": 60,
     "metadata": {},
     "output_type": "execute_result"
    }
   ],
   "source": [
    "E.transpose()"
   ]
  },
  {
   "cell_type": "code",
   "execution_count": 61,
   "id": "92ebb96c",
   "metadata": {},
   "outputs": [
    {
     "data": {
      "text/latex": [
       "$\\displaystyle \\left[\\begin{matrix}40 & 123 & -12 & 122\\\\170 & 522 & -68 & 525\\\\64 & 189 & -44 & 198\\\\-66 & -213 & 0 & -203\\end{matrix}\\right]$"
      ],
      "text/plain": [
       "Matrix([\n",
       "[ 40,  123, -12,  122],\n",
       "[170,  522, -68,  525],\n",
       "[ 64,  189, -44,  198],\n",
       "[-66, -213,   0, -203]])"
      ]
     },
     "execution_count": 61,
     "metadata": {},
     "output_type": "execute_result"
    }
   ],
   "source": [
    "E*E"
   ]
  },
  {
   "cell_type": "code",
   "execution_count": 62,
   "id": "a9e7adc8",
   "metadata": {},
   "outputs": [
    {
     "data": {
      "text/latex": [
       "$\\displaystyle \\left[\\begin{matrix}1 & 0 & 0 & 0\\\\0 & 1 & 0 & 0\\\\0 & 0 & 1 & 0\\\\0 & 0 & 0 & 1\\end{matrix}\\right]$"
      ],
      "text/plain": [
       "Matrix([\n",
       "[1, 0, 0, 0],\n",
       "[0, 1, 0, 0],\n",
       "[0, 0, 1, 0],\n",
       "[0, 0, 0, 1]])"
      ]
     },
     "execution_count": 62,
     "metadata": {},
     "output_type": "execute_result"
    }
   ],
   "source": [
    "E*E.inv()"
   ]
  },
  {
   "cell_type": "code",
   "execution_count": 63,
   "id": "e86ab129",
   "metadata": {},
   "outputs": [
    {
     "data": {
      "text/latex": [
       "$\\displaystyle \\left[\\begin{matrix}40 & 123 & -12 & 122\\\\170 & 522 & -68 & 525\\\\64 & 189 & -44 & 198\\\\-66 & -213 & 0 & -203\\end{matrix}\\right]$"
      ],
      "text/plain": [
       "Matrix([\n",
       "[ 40,  123, -12,  122],\n",
       "[170,  522, -68,  525],\n",
       "[ 64,  189, -44,  198],\n",
       "[-66, -213,   0, -203]])"
      ]
     },
     "execution_count": 63,
     "metadata": {},
     "output_type": "execute_result"
    }
   ],
   "source": [
    "E*E"
   ]
  },
  {
   "cell_type": "code",
   "execution_count": null,
   "id": "560b39ab",
   "metadata": {},
   "outputs": [],
   "source": []
  }
 ],
 "metadata": {
  "kernelspec": {
   "display_name": "Python 3 (ipykernel)",
   "language": "python",
   "name": "python3"
  },
  "language_info": {
   "codemirror_mode": {
    "name": "ipython",
    "version": 3
   },
   "file_extension": ".py",
   "mimetype": "text/x-python",
   "name": "python",
   "nbconvert_exporter": "python",
   "pygments_lexer": "ipython3",
   "version": "3.9.7"
  }
 },
 "nbformat": 4,
 "nbformat_minor": 5
}
